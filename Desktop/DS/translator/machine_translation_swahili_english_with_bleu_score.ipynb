{
  "cells": [
    {
      "cell_type": "markdown",
      "id": "iraqi-dietary",
      "metadata": {
        "papermill": {
          "duration": 0.015268,
          "end_time": "2021-08-11T06:21:43.946328",
          "exception": false,
          "start_time": "2021-08-11T06:21:43.931060",
          "status": "completed"
        },
        "tags": [],
        "id": "iraqi-dietary"
      },
      "source": [
        "# Train a Machine Translation model SWA->EN with BLEU Score\n",
        "### \\#Keras \\#Deep Learning \\#NLTK \\#BLEU Score\n",
        "\n",
        "\n"
      ]
    },
    {
      "cell_type": "markdown",
      "id": "dried-olive",
      "metadata": {
        "papermill": {
          "duration": 0.013793,
          "end_time": "2021-08-11T06:21:44.002565",
          "exception": false,
          "start_time": "2021-08-11T06:21:43.988772",
          "status": "completed"
        },
        "tags": [],
        "id": "dried-olive"
      },
      "source": [
        "## 1. Data Preprocessing<a class=\"anchor\" id=\"1\"></a><a class=\"anchor\" id=\"1\"></a>"
      ]
    },
    {
      "cell_type": "code",
      "execution_count": 1,
      "id": "successful-richards",
      "metadata": {
        "execution": {
          "iopub.execute_input": "2021-08-11T06:21:44.040941Z",
          "iopub.status.busy": "2021-08-11T06:21:44.040108Z",
          "iopub.status.idle": "2021-08-11T06:21:51.263040Z",
          "shell.execute_reply": "2021-08-11T06:21:51.262356Z",
          "shell.execute_reply.started": "2021-05-23T05:34:16.386033Z"
        },
        "papermill": {
          "duration": 7.246539,
          "end_time": "2021-08-11T06:21:51.263209",
          "exception": false,
          "start_time": "2021-08-11T06:21:44.016670",
          "status": "completed"
        },
        "tags": [],
        "id": "successful-richards"
      },
      "outputs": [],
      "source": [
        "import warnings\n",
        "warnings.filterwarnings('ignore')\n",
        "import string\n",
        "import re\n",
        "from unicodedata import normalize\n",
        "import numpy as np\n",
        "from keras.preprocessing.text import Tokenizer\n",
        "from keras_preprocessing.sequence import pad_sequences\n",
        "from keras.utils import to_categorical\n",
        "from keras.models import Sequential,load_model\n",
        "from keras.layers import LSTM,Dense,Embedding,RepeatVector,TimeDistributed\n",
        "from keras.callbacks import EarlyStopping\n",
        "from keras.preprocessing.text import Tokenizer\n",
        "from keras_preprocessing.sequence import pad_sequences\n",
        "from nltk.translate.bleu_score import corpus_bleu\n",
        "import pandas as pd\n",
        "from string import punctuation\n",
        "import matplotlib.pyplot as plt\n",
        "from IPython.display import Markdown, display\n",
        "\n",
        "def printmd(string):\n",
        "    # Print with Markdowns    \n",
        "    display(Markdown(string))"
      ]
    },
    {
      "cell_type": "code",
      "source": [
        "from google.colab import drive\n",
        "drive.mount('/content/drive')"
      ],
      "metadata": {
        "colab": {
          "base_uri": "https://localhost:8080/"
        },
        "id": "4Sc8iEGeQHQQ",
        "outputId": "9e8fb2fe-f49c-45cf-a90f-c10c67b796a1"
      },
      "id": "4Sc8iEGeQHQQ",
      "execution_count": 2,
      "outputs": [
        {
          "output_type": "stream",
          "name": "stdout",
          "text": [
            "Mounted at /content/drive\n"
          ]
        }
      ]
    },
    {
      "cell_type": "code",
      "source": [
        "path = \"/content/drive/MyDrive/translator/\""
      ],
      "metadata": {
        "id": "nDEEygFTRPs-"
      },
      "id": "nDEEygFTRPs-",
      "execution_count": 3,
      "outputs": []
    },
    {
      "cell_type": "code",
      "execution_count": 4,
      "id": "fiscal-importance",
      "metadata": {
        "execution": {
          "iopub.execute_input": "2021-08-11T06:21:51.304119Z",
          "iopub.status.busy": "2021-08-11T06:21:51.303418Z",
          "iopub.status.idle": "2021-08-11T06:21:51.370434Z",
          "shell.execute_reply": "2021-08-11T06:21:51.369234Z",
          "shell.execute_reply.started": "2021-05-23T05:34:23.476309Z"
        },
        "papermill": {
          "duration": 0.091686,
          "end_time": "2021-08-11T06:21:51.370604",
          "exception": false,
          "start_time": "2021-08-11T06:21:51.278918",
          "status": "completed"
        },
        "tags": [],
        "id": "fiscal-importance"
      },
      "outputs": [],
      "source": [
        "total_sentences = 6414\n",
        "\n",
        "# Load the dataset\n",
        "dataset = pd.read_csv(path + \"eng-swa1.csv\", names=[\"english\",\"swahili\"], nrows = total_sentences)\n",
        "\n",
        "# What proportion of the sentences will be used for the test set\n",
        "test_proportion = 0.1\n",
        "train_test_threshold = int( (1-test_proportion) * total_sentences)"
      ]
    },
    {
      "cell_type": "code",
      "execution_count": 5,
      "id": "satisfied-williams",
      "metadata": {
        "execution": {
          "iopub.execute_input": "2021-08-11T06:21:51.415285Z",
          "iopub.status.busy": "2021-08-11T06:21:51.413881Z",
          "iopub.status.idle": "2021-08-11T06:21:51.436891Z",
          "shell.execute_reply": "2021-08-11T06:21:51.437374Z",
          "shell.execute_reply.started": "2021-05-23T05:34:23.528991Z"
        },
        "papermill": {
          "duration": 0.049222,
          "end_time": "2021-08-11T06:21:51.437555",
          "exception": false,
          "start_time": "2021-08-11T06:21:51.388333",
          "status": "completed"
        },
        "tags": [],
        "colab": {
          "base_uri": "https://localhost:8080/",
          "height": 363
        },
        "id": "satisfied-williams",
        "outputId": "54be44bc-bfd1-47e6-92f7-774c1aecc449"
      },
      "outputs": [
        {
          "output_type": "execute_result",
          "data": {
            "text/plain": [
              "                        english                            swahili\n",
              "1540       I like love stories.         Napenda hadithi za upendo.\n",
              "380              I'm a tourist.                    Mimi ni mtalii.\n",
              "977           Tom seems OK now.          Tom anaonekana sawa sasa.\n",
              "465             Do as you want.             Fanya kama unavyotaka.\n",
              "8                       No way!                            Hapana!\n",
              "2188     I've always loved you.  Nimekuwa nikikupenda kila wakati.\n",
              "3010  There's nothing I can do.   Hakuna kitu ninachoweza kufanya.\n",
              "1086         I like short hair.               Napenda nywele fupi.\n",
              "842           Here is the bill.                 Hapa kuna muswada.\n",
              "1921      She was born in 1960.              Alizaliwa mwaka 1960."
            ],
            "text/html": [
              "\n",
              "  <div id=\"df-ddce6a64-737e-467d-a0d2-aaca59bae3c4\">\n",
              "    <div class=\"colab-df-container\">\n",
              "      <div>\n",
              "<style scoped>\n",
              "    .dataframe tbody tr th:only-of-type {\n",
              "        vertical-align: middle;\n",
              "    }\n",
              "\n",
              "    .dataframe tbody tr th {\n",
              "        vertical-align: top;\n",
              "    }\n",
              "\n",
              "    .dataframe thead th {\n",
              "        text-align: right;\n",
              "    }\n",
              "</style>\n",
              "<table border=\"1\" class=\"dataframe\">\n",
              "  <thead>\n",
              "    <tr style=\"text-align: right;\">\n",
              "      <th></th>\n",
              "      <th>english</th>\n",
              "      <th>swahili</th>\n",
              "    </tr>\n",
              "  </thead>\n",
              "  <tbody>\n",
              "    <tr>\n",
              "      <th>1540</th>\n",
              "      <td>I like love stories.</td>\n",
              "      <td>Napenda hadithi za upendo.</td>\n",
              "    </tr>\n",
              "    <tr>\n",
              "      <th>380</th>\n",
              "      <td>I'm a tourist.</td>\n",
              "      <td>Mimi ni mtalii.</td>\n",
              "    </tr>\n",
              "    <tr>\n",
              "      <th>977</th>\n",
              "      <td>Tom seems OK now.</td>\n",
              "      <td>Tom anaonekana sawa sasa.</td>\n",
              "    </tr>\n",
              "    <tr>\n",
              "      <th>465</th>\n",
              "      <td>Do as you want.</td>\n",
              "      <td>Fanya kama unavyotaka.</td>\n",
              "    </tr>\n",
              "    <tr>\n",
              "      <th>8</th>\n",
              "      <td>No way!</td>\n",
              "      <td>Hapana!</td>\n",
              "    </tr>\n",
              "    <tr>\n",
              "      <th>2188</th>\n",
              "      <td>I've always loved you.</td>\n",
              "      <td>Nimekuwa nikikupenda kila wakati.</td>\n",
              "    </tr>\n",
              "    <tr>\n",
              "      <th>3010</th>\n",
              "      <td>There's nothing I can do.</td>\n",
              "      <td>Hakuna kitu ninachoweza kufanya.</td>\n",
              "    </tr>\n",
              "    <tr>\n",
              "      <th>1086</th>\n",
              "      <td>I like short hair.</td>\n",
              "      <td>Napenda nywele fupi.</td>\n",
              "    </tr>\n",
              "    <tr>\n",
              "      <th>842</th>\n",
              "      <td>Here is the bill.</td>\n",
              "      <td>Hapa kuna muswada.</td>\n",
              "    </tr>\n",
              "    <tr>\n",
              "      <th>1921</th>\n",
              "      <td>She was born in 1960.</td>\n",
              "      <td>Alizaliwa mwaka 1960.</td>\n",
              "    </tr>\n",
              "  </tbody>\n",
              "</table>\n",
              "</div>\n",
              "      <button class=\"colab-df-convert\" onclick=\"convertToInteractive('df-ddce6a64-737e-467d-a0d2-aaca59bae3c4')\"\n",
              "              title=\"Convert this dataframe to an interactive table.\"\n",
              "              style=\"display:none;\">\n",
              "        \n",
              "  <svg xmlns=\"http://www.w3.org/2000/svg\" height=\"24px\"viewBox=\"0 0 24 24\"\n",
              "       width=\"24px\">\n",
              "    <path d=\"M0 0h24v24H0V0z\" fill=\"none\"/>\n",
              "    <path d=\"M18.56 5.44l.94 2.06.94-2.06 2.06-.94-2.06-.94-.94-2.06-.94 2.06-2.06.94zm-11 1L8.5 8.5l.94-2.06 2.06-.94-2.06-.94L8.5 2.5l-.94 2.06-2.06.94zm10 10l.94 2.06.94-2.06 2.06-.94-2.06-.94-.94-2.06-.94 2.06-2.06.94z\"/><path d=\"M17.41 7.96l-1.37-1.37c-.4-.4-.92-.59-1.43-.59-.52 0-1.04.2-1.43.59L10.3 9.45l-7.72 7.72c-.78.78-.78 2.05 0 2.83L4 21.41c.39.39.9.59 1.41.59.51 0 1.02-.2 1.41-.59l7.78-7.78 2.81-2.81c.8-.78.8-2.07 0-2.86zM5.41 20L4 18.59l7.72-7.72 1.47 1.35L5.41 20z\"/>\n",
              "  </svg>\n",
              "      </button>\n",
              "      \n",
              "  <style>\n",
              "    .colab-df-container {\n",
              "      display:flex;\n",
              "      flex-wrap:wrap;\n",
              "      gap: 12px;\n",
              "    }\n",
              "\n",
              "    .colab-df-convert {\n",
              "      background-color: #E8F0FE;\n",
              "      border: none;\n",
              "      border-radius: 50%;\n",
              "      cursor: pointer;\n",
              "      display: none;\n",
              "      fill: #1967D2;\n",
              "      height: 32px;\n",
              "      padding: 0 0 0 0;\n",
              "      width: 32px;\n",
              "    }\n",
              "\n",
              "    .colab-df-convert:hover {\n",
              "      background-color: #E2EBFA;\n",
              "      box-shadow: 0px 1px 2px rgba(60, 64, 67, 0.3), 0px 1px 3px 1px rgba(60, 64, 67, 0.15);\n",
              "      fill: #174EA6;\n",
              "    }\n",
              "\n",
              "    [theme=dark] .colab-df-convert {\n",
              "      background-color: #3B4455;\n",
              "      fill: #D2E3FC;\n",
              "    }\n",
              "\n",
              "    [theme=dark] .colab-df-convert:hover {\n",
              "      background-color: #434B5C;\n",
              "      box-shadow: 0px 1px 3px 1px rgba(0, 0, 0, 0.15);\n",
              "      filter: drop-shadow(0px 1px 2px rgba(0, 0, 0, 0.3));\n",
              "      fill: #FFFFFF;\n",
              "    }\n",
              "  </style>\n",
              "\n",
              "      <script>\n",
              "        const buttonEl =\n",
              "          document.querySelector('#df-ddce6a64-737e-467d-a0d2-aaca59bae3c4 button.colab-df-convert');\n",
              "        buttonEl.style.display =\n",
              "          google.colab.kernel.accessAllowed ? 'block' : 'none';\n",
              "\n",
              "        async function convertToInteractive(key) {\n",
              "          const element = document.querySelector('#df-ddce6a64-737e-467d-a0d2-aaca59bae3c4');\n",
              "          const dataTable =\n",
              "            await google.colab.kernel.invokeFunction('convertToInteractive',\n",
              "                                                     [key], {});\n",
              "          if (!dataTable) return;\n",
              "\n",
              "          const docLinkHtml = 'Like what you see? Visit the ' +\n",
              "            '<a target=\"_blank\" href=https://colab.research.google.com/notebooks/data_table.ipynb>data table notebook</a>'\n",
              "            + ' to learn more about interactive tables.';\n",
              "          element.innerHTML = '';\n",
              "          dataTable['output_type'] = 'display_data';\n",
              "          await google.colab.output.renderOutput(dataTable, element);\n",
              "          const docLink = document.createElement('div');\n",
              "          docLink.innerHTML = docLinkHtml;\n",
              "          element.appendChild(docLink);\n",
              "        }\n",
              "      </script>\n",
              "    </div>\n",
              "  </div>\n",
              "  "
            ]
          },
          "metadata": {},
          "execution_count": 5
        }
      ],
      "source": [
        "# Shuffle the dataset\n",
        "dataset = dataset.sample(frac=1, random_state=0)\n",
        "dataset.iloc[1000:1010]"
      ]
    },
    {
      "cell_type": "code",
      "execution_count": 6,
      "id": "expanded-encyclopedia",
      "metadata": {
        "execution": {
          "iopub.execute_input": "2021-08-11T06:21:51.474757Z",
          "iopub.status.busy": "2021-08-11T06:21:51.474101Z",
          "iopub.status.idle": "2021-08-11T06:21:51.713117Z",
          "shell.execute_reply": "2021-08-11T06:21:51.713637Z",
          "shell.execute_reply.started": "2021-05-23T05:34:23.553789Z"
        },
        "papermill": {
          "duration": 0.259836,
          "end_time": "2021-08-11T06:21:51.713836",
          "exception": false,
          "start_time": "2021-08-11T06:21:51.454000",
          "status": "completed"
        },
        "tags": [],
        "id": "expanded-encyclopedia"
      },
      "outputs": [],
      "source": [
        "def clean(string):\n",
        "    # Clean the string\n",
        "    string = string.replace(\"\\u202f\",\" \") # Replace no-break space with space\n",
        "    string = string.lower()\n",
        "    \n",
        "    # Delete the punctuation and the numbers\n",
        "    for p in punctuation + \"«»\" + \"0123456789\":\n",
        "        string = string.replace(p,\" \")\n",
        "        \n",
        "    string = re.sub('\\s+',' ', string)\n",
        "    string = string.strip()\n",
        "           \n",
        "    return string\n",
        "\n",
        "# Clean the sentences\n",
        "dataset[\"english\"] = dataset[\"english\"].apply(lambda x: clean(x))\n",
        "dataset[\"swahili\"] = dataset[\"swahili\"].apply(lambda x: clean(x))\n",
        "\n",
        "# Select one part of the dataset\n",
        "dataset = dataset.values\n",
        "dataset = dataset[:total_sentences]\n",
        "\n",
        "# split into train/test\n",
        "train, test = dataset[:train_test_threshold], dataset[train_test_threshold:]\n",
        "\n",
        "# Define the name of the source and of the target\n",
        "# This will be used in the outputs of this notebook\n",
        "source_str, target_str = \"swahili\", \"english\"\n",
        "\n",
        "# The index in the numpy array of the source and of the target\n",
        "idx_src, idx_tar = 1, 0"
      ]
    },
    {
      "cell_type": "code",
      "execution_count": 7,
      "id": "documented-decrease",
      "metadata": {
        "execution": {
          "iopub.execute_input": "2021-08-11T06:21:51.750518Z",
          "iopub.status.busy": "2021-08-11T06:21:51.749885Z",
          "iopub.status.idle": "2021-08-11T06:21:51.760503Z",
          "shell.execute_reply": "2021-08-11T06:21:51.759842Z",
          "shell.execute_reply.started": "2021-05-23T05:34:23.760106Z"
        },
        "papermill": {
          "duration": 0.030459,
          "end_time": "2021-08-11T06:21:51.760665",
          "exception": false,
          "start_time": "2021-08-11T06:21:51.730206",
          "status": "completed"
        },
        "tags": [],
        "colab": {
          "base_uri": "https://localhost:8080/",
          "height": 363
        },
        "id": "documented-decrease",
        "outputId": "7b7ae403-c8da-446a-cdef-d1f091cfc797"
      },
      "outputs": [
        {
          "output_type": "execute_result",
          "data": {
            "text/plain": [
              "                          0                                 1\n",
              "0       i like love stories         napenda hadithi za upendo\n",
              "1             i m a tourist                    mimi ni mtalii\n",
              "2          tom seems ok now          tom anaonekana sawa sasa\n",
              "3            do as you want             fanya kama unavyotaka\n",
              "4                    no way                            hapana\n",
              "5     i ve always loved you  nimekuwa nikikupenda kila wakati\n",
              "6  there s nothing i can do   hakuna kitu ninachoweza kufanya\n",
              "7         i like short hair               napenda nywele fupi\n",
              "8          here is the bill                 hapa kuna muswada\n",
              "9           she was born in                   alizaliwa mwaka"
            ],
            "text/html": [
              "\n",
              "  <div id=\"df-27aea70f-d46e-44ec-a2a5-84d3555354c3\">\n",
              "    <div class=\"colab-df-container\">\n",
              "      <div>\n",
              "<style scoped>\n",
              "    .dataframe tbody tr th:only-of-type {\n",
              "        vertical-align: middle;\n",
              "    }\n",
              "\n",
              "    .dataframe tbody tr th {\n",
              "        vertical-align: top;\n",
              "    }\n",
              "\n",
              "    .dataframe thead th {\n",
              "        text-align: right;\n",
              "    }\n",
              "</style>\n",
              "<table border=\"1\" class=\"dataframe\">\n",
              "  <thead>\n",
              "    <tr style=\"text-align: right;\">\n",
              "      <th></th>\n",
              "      <th>0</th>\n",
              "      <th>1</th>\n",
              "    </tr>\n",
              "  </thead>\n",
              "  <tbody>\n",
              "    <tr>\n",
              "      <th>0</th>\n",
              "      <td>i like love stories</td>\n",
              "      <td>napenda hadithi za upendo</td>\n",
              "    </tr>\n",
              "    <tr>\n",
              "      <th>1</th>\n",
              "      <td>i m a tourist</td>\n",
              "      <td>mimi ni mtalii</td>\n",
              "    </tr>\n",
              "    <tr>\n",
              "      <th>2</th>\n",
              "      <td>tom seems ok now</td>\n",
              "      <td>tom anaonekana sawa sasa</td>\n",
              "    </tr>\n",
              "    <tr>\n",
              "      <th>3</th>\n",
              "      <td>do as you want</td>\n",
              "      <td>fanya kama unavyotaka</td>\n",
              "    </tr>\n",
              "    <tr>\n",
              "      <th>4</th>\n",
              "      <td>no way</td>\n",
              "      <td>hapana</td>\n",
              "    </tr>\n",
              "    <tr>\n",
              "      <th>5</th>\n",
              "      <td>i ve always loved you</td>\n",
              "      <td>nimekuwa nikikupenda kila wakati</td>\n",
              "    </tr>\n",
              "    <tr>\n",
              "      <th>6</th>\n",
              "      <td>there s nothing i can do</td>\n",
              "      <td>hakuna kitu ninachoweza kufanya</td>\n",
              "    </tr>\n",
              "    <tr>\n",
              "      <th>7</th>\n",
              "      <td>i like short hair</td>\n",
              "      <td>napenda nywele fupi</td>\n",
              "    </tr>\n",
              "    <tr>\n",
              "      <th>8</th>\n",
              "      <td>here is the bill</td>\n",
              "      <td>hapa kuna muswada</td>\n",
              "    </tr>\n",
              "    <tr>\n",
              "      <th>9</th>\n",
              "      <td>she was born in</td>\n",
              "      <td>alizaliwa mwaka</td>\n",
              "    </tr>\n",
              "  </tbody>\n",
              "</table>\n",
              "</div>\n",
              "      <button class=\"colab-df-convert\" onclick=\"convertToInteractive('df-27aea70f-d46e-44ec-a2a5-84d3555354c3')\"\n",
              "              title=\"Convert this dataframe to an interactive table.\"\n",
              "              style=\"display:none;\">\n",
              "        \n",
              "  <svg xmlns=\"http://www.w3.org/2000/svg\" height=\"24px\"viewBox=\"0 0 24 24\"\n",
              "       width=\"24px\">\n",
              "    <path d=\"M0 0h24v24H0V0z\" fill=\"none\"/>\n",
              "    <path d=\"M18.56 5.44l.94 2.06.94-2.06 2.06-.94-2.06-.94-.94-2.06-.94 2.06-2.06.94zm-11 1L8.5 8.5l.94-2.06 2.06-.94-2.06-.94L8.5 2.5l-.94 2.06-2.06.94zm10 10l.94 2.06.94-2.06 2.06-.94-2.06-.94-.94-2.06-.94 2.06-2.06.94z\"/><path d=\"M17.41 7.96l-1.37-1.37c-.4-.4-.92-.59-1.43-.59-.52 0-1.04.2-1.43.59L10.3 9.45l-7.72 7.72c-.78.78-.78 2.05 0 2.83L4 21.41c.39.39.9.59 1.41.59.51 0 1.02-.2 1.41-.59l7.78-7.78 2.81-2.81c.8-.78.8-2.07 0-2.86zM5.41 20L4 18.59l7.72-7.72 1.47 1.35L5.41 20z\"/>\n",
              "  </svg>\n",
              "      </button>\n",
              "      \n",
              "  <style>\n",
              "    .colab-df-container {\n",
              "      display:flex;\n",
              "      flex-wrap:wrap;\n",
              "      gap: 12px;\n",
              "    }\n",
              "\n",
              "    .colab-df-convert {\n",
              "      background-color: #E8F0FE;\n",
              "      border: none;\n",
              "      border-radius: 50%;\n",
              "      cursor: pointer;\n",
              "      display: none;\n",
              "      fill: #1967D2;\n",
              "      height: 32px;\n",
              "      padding: 0 0 0 0;\n",
              "      width: 32px;\n",
              "    }\n",
              "\n",
              "    .colab-df-convert:hover {\n",
              "      background-color: #E2EBFA;\n",
              "      box-shadow: 0px 1px 2px rgba(60, 64, 67, 0.3), 0px 1px 3px 1px rgba(60, 64, 67, 0.15);\n",
              "      fill: #174EA6;\n",
              "    }\n",
              "\n",
              "    [theme=dark] .colab-df-convert {\n",
              "      background-color: #3B4455;\n",
              "      fill: #D2E3FC;\n",
              "    }\n",
              "\n",
              "    [theme=dark] .colab-df-convert:hover {\n",
              "      background-color: #434B5C;\n",
              "      box-shadow: 0px 1px 3px 1px rgba(0, 0, 0, 0.15);\n",
              "      filter: drop-shadow(0px 1px 2px rgba(0, 0, 0, 0.3));\n",
              "      fill: #FFFFFF;\n",
              "    }\n",
              "  </style>\n",
              "\n",
              "      <script>\n",
              "        const buttonEl =\n",
              "          document.querySelector('#df-27aea70f-d46e-44ec-a2a5-84d3555354c3 button.colab-df-convert');\n",
              "        buttonEl.style.display =\n",
              "          google.colab.kernel.accessAllowed ? 'block' : 'none';\n",
              "\n",
              "        async function convertToInteractive(key) {\n",
              "          const element = document.querySelector('#df-27aea70f-d46e-44ec-a2a5-84d3555354c3');\n",
              "          const dataTable =\n",
              "            await google.colab.kernel.invokeFunction('convertToInteractive',\n",
              "                                                     [key], {});\n",
              "          if (!dataTable) return;\n",
              "\n",
              "          const docLinkHtml = 'Like what you see? Visit the ' +\n",
              "            '<a target=\"_blank\" href=https://colab.research.google.com/notebooks/data_table.ipynb>data table notebook</a>'\n",
              "            + ' to learn more about interactive tables.';\n",
              "          element.innerHTML = '';\n",
              "          dataTable['output_type'] = 'display_data';\n",
              "          await google.colab.output.renderOutput(dataTable, element);\n",
              "          const docLink = document.createElement('div');\n",
              "          docLink.innerHTML = docLinkHtml;\n",
              "          element.appendChild(docLink);\n",
              "        }\n",
              "      </script>\n",
              "    </div>\n",
              "  </div>\n",
              "  "
            ]
          },
          "metadata": {},
          "execution_count": 7
        }
      ],
      "source": [
        "# Display the result after cleaning\n",
        "pd.DataFrame(dataset[1000:1010])"
      ]
    },
    {
      "cell_type": "code",
      "execution_count": 8,
      "id": "received-trout",
      "metadata": {
        "execution": {
          "iopub.execute_input": "2021-08-11T06:21:51.825121Z",
          "iopub.status.busy": "2021-08-11T06:21:51.819963Z",
          "iopub.status.idle": "2021-08-11T06:21:52.966784Z",
          "shell.execute_reply": "2021-08-11T06:21:52.966087Z",
          "shell.execute_reply.started": "2021-05-23T05:34:23.77138Z"
        },
        "papermill": {
          "duration": 1.188374,
          "end_time": "2021-08-11T06:21:52.966925",
          "exception": false,
          "start_time": "2021-08-11T06:21:51.778551",
          "status": "completed"
        },
        "tags": [],
        "colab": {
          "base_uri": "https://localhost:8080/",
          "height": 116
        },
        "id": "received-trout",
        "outputId": "dfaf8d9e-7390-4cac-91e3-b2374de94fab"
      },
      "outputs": [
        {
          "output_type": "display_data",
          "data": {
            "text/plain": [
              "<IPython.core.display.Markdown object>"
            ],
            "text/markdown": "\nTarget (english) Vocabulary Size: 3041"
          },
          "metadata": {}
        },
        {
          "output_type": "display_data",
          "data": {
            "text/plain": [
              "<IPython.core.display.Markdown object>"
            ],
            "text/markdown": "Target (english) Max Length: 14"
          },
          "metadata": {}
        },
        {
          "output_type": "display_data",
          "data": {
            "text/plain": [
              "<IPython.core.display.Markdown object>"
            ],
            "text/markdown": "\nSource (swahili) Vocabulary Size: 4329"
          },
          "metadata": {}
        },
        {
          "output_type": "display_data",
          "data": {
            "text/plain": [
              "<IPython.core.display.Markdown object>"
            ],
            "text/markdown": "Source (swahili) Max Length: 12\n"
          },
          "metadata": {}
        }
      ],
      "source": [
        "def create_tokenizer(lines):\n",
        "    # fit a tokenizer\n",
        "    tokenizer = Tokenizer()\n",
        "    tokenizer.fit_on_texts(lines)\n",
        "    return tokenizer\n",
        " \n",
        "def max_len(lines):\n",
        "    # max sentence length\n",
        "    return max(len(line.split()) for line in lines)\n",
        "\n",
        "def encode_sequences(tokenizer, length, lines):\n",
        "    # encode and pad sequences\n",
        "    X = tokenizer.texts_to_sequences(lines) # integer encode sequences\n",
        "    X = pad_sequences(X, maxlen=length, padding='post') # pad sequences with 0 values\n",
        "    return X\n",
        " \n",
        "def encode_output(sequences, vocab_size):\n",
        "    # one hot encode target sequence\n",
        "    ylist = list()\n",
        "    for sequence in sequences:\n",
        "        encoded = to_categorical(sequence, num_classes=vocab_size)\n",
        "        ylist.append(encoded)\n",
        "    y = np.array(ylist)\n",
        "    y = y.reshape(sequences.shape[0], sequences.shape[1], vocab_size)\n",
        "    return y\n",
        " \n",
        "# Prepare target tokenizer\n",
        "tar_tokenizer = create_tokenizer(dataset[:, idx_tar])\n",
        "tar_vocab_size = len(tar_tokenizer.word_index) + 1\n",
        "tar_length = max_len(dataset[:, idx_tar])\n",
        "printmd(f'\\nTarget ({target_str}) Vocabulary Size: {tar_vocab_size}')\n",
        "printmd(f'Target ({target_str}) Max Length: {tar_length}')\n",
        "\n",
        "# Prepare source tokenizer\n",
        "src_tokenizer = create_tokenizer(dataset[:, idx_src])\n",
        "src_vocab_size = len(src_tokenizer.word_index) + 1\n",
        "src_length = max_len(dataset[:, idx_src])\n",
        "printmd(f'\\nSource ({source_str}) Vocabulary Size: {src_vocab_size}')\n",
        "printmd(f'Source ({source_str}) Max Length: {src_length}\\n')\n",
        " \n",
        "# Prepare training data\n",
        "trainX = encode_sequences(src_tokenizer, src_length, train[:, idx_src])\n",
        "trainY = encode_sequences(tar_tokenizer, tar_length, train[:, idx_tar])\n",
        "trainY = encode_output(trainY, tar_vocab_size)\n",
        "\n",
        "# Prepare test data\n",
        "testX = encode_sequences(src_tokenizer, src_length, test[:, idx_src])\n",
        "testY = encode_sequences(tar_tokenizer, tar_length, test[:, idx_tar])\n",
        "testY = encode_output(testY, tar_vocab_size)"
      ]
    },
    {
      "cell_type": "markdown",
      "id": "proved-fashion",
      "metadata": {
        "papermill": {
          "duration": 0.018174,
          "end_time": "2021-08-11T06:21:53.003952",
          "exception": false,
          "start_time": "2021-08-11T06:21:52.985778",
          "status": "completed"
        },
        "tags": [],
        "id": "proved-fashion"
      },
      "source": [
        "# 2. Create and train the model<a class=\"anchor\" id=\"2\"></a>"
      ]
    },
    {
      "cell_type": "code",
      "execution_count": 9,
      "id": "handy-mauritius",
      "metadata": {
        "_kg_hide-output": true,
        "execution": {
          "iopub.execute_input": "2021-08-11T06:21:53.050114Z",
          "iopub.status.busy": "2021-08-11T06:21:53.049399Z",
          "iopub.status.idle": "2021-08-11T06:32:52.136282Z",
          "shell.execute_reply": "2021-08-11T06:32:52.135705Z",
          "shell.execute_reply.started": "2021-05-23T05:34:24.712386Z"
        },
        "papermill": {
          "duration": 659.113664,
          "end_time": "2021-08-11T06:32:52.136437",
          "exception": false,
          "start_time": "2021-08-11T06:21:53.022773",
          "status": "completed"
        },
        "tags": [],
        "id": "handy-mauritius",
        "outputId": "d9e09e58-653e-4e76-c3ae-06a3937801ac",
        "colab": {
          "base_uri": "https://localhost:8080/"
        }
      },
      "outputs": [
        {
          "output_type": "stream",
          "name": "stdout",
          "text": [
            "Epoch 1/200\n",
            "82/82 [==============================] - 13s 38ms/step - loss: 3.9522 - val_loss: 3.0587\n",
            "Epoch 2/200\n",
            "82/82 [==============================] - 2s 20ms/step - loss: 2.8970 - val_loss: 2.8039\n",
            "Epoch 3/200\n",
            "82/82 [==============================] - 2s 19ms/step - loss: 2.7373 - val_loss: 2.7150\n",
            "Epoch 4/200\n",
            "82/82 [==============================] - 2s 19ms/step - loss: 2.6019 - val_loss: 2.6639\n",
            "Epoch 5/200\n",
            "82/82 [==============================] - 2s 20ms/step - loss: 2.4937 - val_loss: 2.6743\n",
            "Epoch 6/200\n",
            "82/82 [==============================] - 2s 20ms/step - loss: 2.4505 - val_loss: 2.6404\n",
            "Epoch 7/200\n",
            "82/82 [==============================] - 2s 19ms/step - loss: 2.4126 - val_loss: 2.6366\n",
            "Epoch 8/200\n",
            "82/82 [==============================] - 2s 19ms/step - loss: 2.3785 - val_loss: 2.6468\n",
            "Epoch 9/200\n",
            "82/82 [==============================] - 2s 19ms/step - loss: 2.3492 - val_loss: 2.6328\n",
            "Epoch 10/200\n",
            "82/82 [==============================] - 2s 21ms/step - loss: 2.3209 - val_loss: 2.6424\n",
            "Epoch 11/200\n",
            "82/82 [==============================] - 2s 26ms/step - loss: 2.2889 - val_loss: 2.6333\n",
            "Epoch 12/200\n",
            "82/82 [==============================] - 2s 30ms/step - loss: 2.2589 - val_loss: 2.6188\n",
            "Epoch 13/200\n",
            "82/82 [==============================] - 3s 31ms/step - loss: 2.2254 - val_loss: 2.6165\n",
            "Epoch 14/200\n",
            "82/82 [==============================] - 3s 31ms/step - loss: 2.1886 - val_loss: 2.5988\n",
            "Epoch 15/200\n",
            "82/82 [==============================] - 3s 32ms/step - loss: 2.1550 - val_loss: 2.6000\n",
            "Epoch 16/200\n",
            "82/82 [==============================] - 3s 34ms/step - loss: 2.1207 - val_loss: 2.5749\n",
            "Epoch 17/200\n",
            "82/82 [==============================] - 2s 30ms/step - loss: 2.0867 - val_loss: 2.5905\n",
            "Epoch 18/200\n",
            "82/82 [==============================] - 3s 31ms/step - loss: 2.0569 - val_loss: 2.5739\n",
            "Epoch 19/200\n",
            "82/82 [==============================] - 2s 28ms/step - loss: 2.0229 - val_loss: 2.5741\n",
            "Epoch 20/200\n",
            "82/82 [==============================] - 2s 19ms/step - loss: 1.9886 - val_loss: 2.5529\n",
            "Epoch 21/200\n",
            "82/82 [==============================] - 2s 19ms/step - loss: 1.9476 - val_loss: 2.5402\n",
            "Epoch 22/200\n",
            "82/82 [==============================] - 2s 19ms/step - loss: 1.9060 - val_loss: 2.5493\n",
            "Epoch 23/200\n",
            "82/82 [==============================] - 2s 19ms/step - loss: 1.8653 - val_loss: 2.5276\n",
            "Epoch 24/200\n",
            "82/82 [==============================] - 2s 19ms/step - loss: 1.8250 - val_loss: 2.5059\n",
            "Epoch 25/200\n",
            "82/82 [==============================] - 2s 19ms/step - loss: 1.7803 - val_loss: 2.4812\n",
            "Epoch 26/200\n",
            "82/82 [==============================] - 2s 19ms/step - loss: 1.7298 - val_loss: 2.4793\n",
            "Epoch 27/200\n",
            "82/82 [==============================] - 2s 20ms/step - loss: 1.6860 - val_loss: 2.4776\n",
            "Epoch 28/200\n",
            "82/82 [==============================] - 2s 20ms/step - loss: 1.6400 - val_loss: 2.4623\n",
            "Epoch 29/200\n",
            "82/82 [==============================] - 2s 20ms/step - loss: 1.5934 - val_loss: 2.4422\n",
            "Epoch 30/200\n",
            "82/82 [==============================] - 2s 20ms/step - loss: 1.5474 - val_loss: 2.4496\n",
            "Epoch 31/200\n",
            "82/82 [==============================] - 2s 20ms/step - loss: 1.5083 - val_loss: 2.4206\n",
            "Epoch 32/200\n",
            "82/82 [==============================] - 2s 20ms/step - loss: 1.4573 - val_loss: 2.4220\n",
            "Epoch 33/200\n",
            "82/82 [==============================] - 2s 19ms/step - loss: 1.4116 - val_loss: 2.3950\n",
            "Epoch 34/200\n",
            "82/82 [==============================] - 2s 20ms/step - loss: 1.3669 - val_loss: 2.3915\n",
            "Epoch 35/200\n",
            "82/82 [==============================] - 2s 20ms/step - loss: 1.3244 - val_loss: 2.3884\n",
            "Epoch 36/200\n",
            "82/82 [==============================] - 2s 20ms/step - loss: 1.2772 - val_loss: 2.3717\n",
            "Epoch 37/200\n",
            "82/82 [==============================] - 2s 20ms/step - loss: 1.2298 - val_loss: 2.3726\n",
            "Epoch 38/200\n",
            "82/82 [==============================] - 2s 19ms/step - loss: 1.1936 - val_loss: 2.3796\n",
            "Epoch 39/200\n",
            "82/82 [==============================] - 2s 19ms/step - loss: 1.1464 - val_loss: 2.3628\n",
            "Epoch 40/200\n",
            "82/82 [==============================] - 2s 19ms/step - loss: 1.1022 - val_loss: 2.3738\n",
            "Epoch 41/200\n",
            "82/82 [==============================] - 2s 19ms/step - loss: 1.0639 - val_loss: 2.3665\n",
            "Epoch 42/200\n",
            "82/82 [==============================] - 2s 18ms/step - loss: 1.0324 - val_loss: 2.3548\n",
            "Epoch 43/200\n",
            "82/82 [==============================] - 2s 19ms/step - loss: 0.9956 - val_loss: 2.3497\n",
            "Epoch 44/200\n",
            "82/82 [==============================] - 2s 19ms/step - loss: 0.9640 - val_loss: 2.3529\n",
            "Epoch 45/200\n",
            "82/82 [==============================] - 2s 19ms/step - loss: 0.9274 - val_loss: 2.3563\n",
            "Epoch 46/200\n",
            "82/82 [==============================] - 2s 19ms/step - loss: 0.8940 - val_loss: 2.3362\n",
            "Epoch 47/200\n",
            "82/82 [==============================] - 2s 19ms/step - loss: 0.8622 - val_loss: 2.3467\n",
            "Epoch 48/200\n",
            "82/82 [==============================] - 2s 20ms/step - loss: 0.8196 - val_loss: 2.3449\n",
            "Epoch 49/200\n",
            "82/82 [==============================] - 2s 20ms/step - loss: 0.7880 - val_loss: 2.3397\n",
            "Epoch 50/200\n",
            "82/82 [==============================] - 2s 19ms/step - loss: 0.7596 - val_loss: 2.3433\n",
            "Epoch 51/200\n",
            "82/82 [==============================] - 2s 20ms/step - loss: 0.7319 - val_loss: 2.3475\n",
            "Epoch 52/200\n",
            "82/82 [==============================] - 2s 19ms/step - loss: 0.7119 - val_loss: 2.3419\n",
            "Epoch 53/200\n",
            "82/82 [==============================] - 2s 19ms/step - loss: 0.6816 - val_loss: 2.3428\n",
            "Epoch 54/200\n",
            "82/82 [==============================] - 2s 20ms/step - loss: 0.6545 - val_loss: 2.3461\n",
            "Epoch 55/200\n",
            "82/82 [==============================] - 2s 19ms/step - loss: 0.6415 - val_loss: 2.3502\n",
            "Epoch 56/200\n",
            "82/82 [==============================] - 2s 20ms/step - loss: 0.6213 - val_loss: 2.3558\n"
          ]
        }
      ],
      "source": [
        "def create_model(src_vocab, tar_vocab, src_timesteps, tar_timesteps, n_units):\n",
        "    # Create the model\n",
        "    model = Sequential()\n",
        "    model.add(Embedding(src_vocab, n_units, input_length=src_timesteps, mask_zero=True))\n",
        "    model.add(LSTM(n_units))\n",
        "    model.add(RepeatVector(tar_timesteps))\n",
        "    model.add(LSTM(n_units, return_sequences=True))\n",
        "    model.add(TimeDistributed(Dense(tar_vocab, activation='softmax')))\n",
        "    return model\n",
        " \n",
        "# Create model\n",
        "model = create_model(src_vocab_size, tar_vocab_size, src_length, tar_length, 256)\n",
        "model.compile(optimizer='adam', loss='categorical_crossentropy')\n",
        "\n",
        "history = model.fit(trainX, \n",
        "          trainY, \n",
        "          epochs=200, \n",
        "          batch_size=64, \n",
        "          validation_split=0.1, \n",
        "          verbose=1,\n",
        "          callbacks=[\n",
        "                        EarlyStopping(\n",
        "                        monitor='val_loss',\n",
        "                        patience=10,\n",
        "                        restore_best_weights=True\n",
        "                    )\n",
        "            ])"
      ]
    },
    {
      "cell_type": "code",
      "execution_count": 10,
      "id": "smoking-measure",
      "metadata": {
        "execution": {
          "iopub.execute_input": "2021-08-11T06:32:55.683158Z",
          "iopub.status.busy": "2021-08-11T06:32:55.682515Z",
          "iopub.status.idle": "2021-08-11T06:32:55.878976Z",
          "shell.execute_reply": "2021-08-11T06:32:55.878454Z",
          "shell.execute_reply.started": "2021-05-23T05:36:27.387359Z"
        },
        "papermill": {
          "duration": 1.952093,
          "end_time": "2021-08-11T06:32:55.879123",
          "exception": false,
          "start_time": "2021-08-11T06:32:53.927030",
          "status": "completed"
        },
        "tags": [],
        "id": "smoking-measure",
        "outputId": "63f18fc8-ee03-44f5-96e2-22372b6efae4",
        "colab": {
          "base_uri": "https://localhost:8080/",
          "height": 281
        }
      },
      "outputs": [
        {
          "output_type": "display_data",
          "data": {
            "text/plain": [
              "<Figure size 432x288 with 1 Axes>"
            ],
            "image/png": "[encoded data removed]"
          },
          "metadata": {
            "needs_background": "light"
          }
        }
      ],
      "source": [
        "pd.DataFrame(history.history).plot()\n",
        "plt.title(\"Loss\")\n",
        "plt.show()"
      ]
    },
    {
      "cell_type": "markdown",
      "id": "injured-biology",
      "metadata": {
        "papermill": {
          "duration": 1.779617,
          "end_time": "2021-08-11T06:32:59.414273",
          "exception": false,
          "start_time": "2021-08-11T06:32:57.634656",
          "status": "completed"
        },
        "tags": [],
        "id": "injured-biology"
      },
      "source": [
        "# 3. Result on the test set<a class=\"anchor\" id=\"3\"></a>"
      ]
    },
    {
      "cell_type": "code",
      "execution_count": 11,
      "id": "phantom-hudson",
      "metadata": {
        "execution": {
          "iopub.execute_input": "2021-08-11T06:33:02.949476Z",
          "iopub.status.busy": "2021-08-11T06:33:02.948845Z",
          "iopub.status.idle": "2021-08-11T06:33:06.006484Z",
          "shell.execute_reply": "2021-08-11T06:33:06.005624Z",
          "shell.execute_reply.started": "2021-05-23T05:36:27.561967Z"
        },
        "papermill": {
          "duration": 4.806178,
          "end_time": "2021-08-11T06:33:06.006684",
          "exception": false,
          "start_time": "2021-08-11T06:33:01.200506",
          "status": "completed"
        },
        "tags": [],
        "id": "phantom-hudson",
        "outputId": "aae18236-5902-46ef-e733-46dea0b47a6a",
        "colab": {
          "base_uri": "https://localhost:8080/"
        }
      },
      "outputs": [
        {
          "output_type": "stream",
          "name": "stdout",
          "text": [
            "### Result on the Training Set ###\n",
            "SWAHILI (SOURCE)               ENGLISH (TARGET)          AUTOMATIC TRANSLATION IN ENGLISH\n",
            "\n",
            "tom ana kumbukumbu duni        tom has a poor memory     tom turned a a memory\n",
            "acha kumdhihaki kaka yako      stop teasing your brother stop teasing your brother\n",
            "ulizaliwa lini                 when were you born        when were you born\n",
            "ninastahili kukutana na tom huko boston jumatatu ijayo saa i m supposed to meet tom in boston next monday at i m not to to the one one for before before\n",
            "tom alijifanya hakujua kinachoendelea tom pretended he didn t know what was happening tom pretended t he t t t happening happening\n",
            "tom anavutiwa sana na jazba    tom is very interested in jazz this is the a the jazz\n",
            "hakuna mtu anayenielewa        nobody understands me     nobody understands me\n",
            "tafadhali fanya kitu           please do something       please you something\n",
            "alilipuka kwa hasira           he exploded with anger    he exploded with anger\n",
            "yeye anapenda mila             he loves rituals          he loves rituals\n",
            "tafadhali jisaidie             please help yourself      please help yourself\n",
            "anaweza kuja                   she might come            he can come\n",
            "aliniambia nisiende haraka sana he told me not to drive too fast he told me me to drive too fast\n",
            "maua bloom                     flowers bloom             birds bloom\n",
            "nilivunja mlango kwa sababu nilipoteza ufunguo i broke down the door because i lost the key i went the the the the the the the the\n",
            "usinipe maoni yoyote           don t give me any ideas   don t t to any me\n",
            "je lazima nifanye mara moja    do i have to do it right away do i want to to do any\n",
            "hakuna tumaini lolote          there isn t any hope      tom isn t any me\n",
            "tafadhali unaweza kurudia kile ulichosema tu could you please repeat what you just said please you please if if you t forgotten\n",
            "nahitaji kisu                  i need a knife            i need a knife\n",
            "ninafanya kazi kila siku isipokuwa jumapili i work every day except for sundays i work every day except sunday\n",
            "\n",
            "\n",
            "### Result on the Test Set ###\n",
            "SWAHILI (SOURCE)               ENGLISH (TARGET)          AUTOMATIC TRANSLATION IN ENGLISH\n",
            "\n",
            "wacha tusipoteze muda kubishana juu yake let s not waste time arguing about it let s t to to a right mess\n",
            "ningependa kujua kwanini jina langu lilifutwa kutoka kwenye orodha i d like to know why my name was deleted from the list i d rather to to i a on on the car\n",
            "wakati nasikia wimbo huu nakufikiria na kukukosa when i hear this song i think of you and miss you there are the the in in the time\n",
            "bosi yuko wapi                 where s the boss          where is the boss\n",
            "haiwezekani kusema kwa hakika  it s impossible to tell for certain that s that that that any mary\n",
            "acha nijaribu                  let me try it             stop it\n",
            "je unapenda maapulo            do you like apples        do you like apples\n",
            "nenda mbali                    go away                   go away\n",
            "natarajia msaada wako          i expect your help        i need your help\n",
            "mimi ni mbaya                  i m serious               i m serious\n",
            "je unafikiri tom alimwona mariamu do you think tom saw mary do you do how do do tom\n",
            "familia yangu sio kubwa sana   my family is not very large my friend is very very very much\n",
            "nina magari mawili             i have two cars           i met every\n",
            "ni muhimu kukumbuka marafiki wako ni akina nani it is important to remember who your friends are it s that who who than here\n",
            "vipi kuhusu kutembea           how about a walk          that s what what want want\n",
            "kitu hakifanyi akili yoyote    something doesn t make any sense he may may with another\n",
            "mimi huwa na wasiwasi kabla ya kwenda kwenye hatua i always get nervous before i go on stage i m looking to a a a the week\n",
            "ilikuwa kosa lao               it was their fault        it is my father\n",
            "sipendi kuzungumza na wageni   i don t like talking with strangers i don t eaten about towel\n",
            "haiwezekani kumaliza ripoti hiyo kwa wiki it is impossible to finish the report in a week it is no to to in in the the week\n",
            "mwaka mmoja una miezi kumi na mbili one year has twelve months we went to to with with before\n"
          ]
        }
      ],
      "source": [
        "def word_for_id(integer, tokenizer):\n",
        "    # map an integer to a word\n",
        "    for word, index in tokenizer.word_index.items():\n",
        "        if index == integer:\n",
        "            return word\n",
        "    return None\n",
        " \n",
        "def predict_seq(model, tokenizer, source):\n",
        "    # generate target from a source sequence\n",
        "    prediction = model.predict(source, verbose=0)[0]\n",
        "    integers = [np.argmax(vector) for vector in prediction]\n",
        "    target = list()\n",
        "    for i in integers:\n",
        "        word = word_for_id(i, tokenizer)\n",
        "        if word is None:\n",
        "            break\n",
        "        target.append(word)\n",
        "    return ' '.join(target)\n",
        "\n",
        "def compare_prediction(model, tokenizer, sources, raw_dataset, limit=20):\n",
        "    # evaluate a model\n",
        "    actual, predicted = [], []\n",
        "    src = f'{source_str.upper()} (SOURCE)'\n",
        "    tgt = f'{target_str.upper()} (TARGET)'\n",
        "    pred = f'AUTOMATIC TRANSLATION IN {target_str.upper()}'\n",
        "    print(f'{src:30} {tgt:25} {pred}\\n')\n",
        "    \n",
        "    for i, source in enumerate(sources): # translate encoded source text\n",
        "        source = source.reshape((1, source.shape[0]))\n",
        "        translation = predict_seq(model, tar_tokenizer, source)\n",
        "        raw_target, raw_src = raw_dataset[i]\n",
        "        print(f'{raw_src:30} {raw_target:25} {translation}')\n",
        "        if i >= limit: # Display some of the result\n",
        "            break\n",
        " \n",
        "# test on some training sequences\n",
        "print('### Result on the Training Set ###')\n",
        "compare_prediction(model, tar_tokenizer, trainX, train)\n",
        "\n",
        "# test on some test sequences\n",
        "print('\\n\\n### Result on the Test Set ###')\n",
        "compare_prediction(model, tar_tokenizer, testX, test)"
      ]
    },
    {
      "cell_type": "markdown",
      "id": "western-capitol",
      "metadata": {
        "papermill": {
          "duration": 1.749188,
          "end_time": "2021-08-11T06:33:09.511702",
          "exception": false,
          "start_time": "2021-08-11T06:33:07.762514",
          "status": "completed"
        },
        "tags": [],
        "id": "western-capitol"
      },
      "source": [
        "# 4. Prediction evaluation with BLEU <a class=\"anchor\" id=\"4\"></a>\n",
        "\n",
        "BLEU (bilingual evaluation understudy) is an algorithm for evaluating the quality of text which has been machine-translated from one natural language to another. Quality is considered to be the correspondence between a machine's output and that of a human: \"the closer a machine translation is to a professional human translation, the better it is\" – this is the central idea behind BLEU. BLEU was one of the first metrics to claim a high correlation with human judgements of quality, and remains one of the most popular automated and inexpensive metrics.\n",
        "\n",
        "Scores are calculated for individual translated segments—generally sentences—by comparing them with a set of good quality reference translations. Those scores are then averaged over the whole corpus to reach an estimate of the translation's overall quality. Intelligibility or grammatical correctness are not taken into account.\n",
        "\n",
        "BLEU's output is always a number between 0 and 1. This value indicates how similar the candidate text is to the reference texts, with values closer to 1 representing more similar texts. Few human translations will attain a score of 1, since this would indicate that the candidate is identical to one of the reference translations. For this reason, it is not necessary to attain a score of 1. Because there are more opportunities to match, adding additional reference translations will increase the BLEU score.\n",
        "\n",
        "\n",
        "## Algorithm\n",
        "\n",
        "BLEU uses a modified form of precision to compare a candidate translation against multiple reference translations. The metric modifies simple precision since machine translation systems have been known to generate more words than are in a reference text. This is illustrated in the following example from Papineni et al. (2002)\n",
        "\n",
        "![example bleu](https://i.imgur.com/mrdpwun.png)\n",
        "\n",
        "Of the seven words in the candidate translation, all of them appear in the reference translations. Thus the candidate text is given a unigram precision of P, where *m* is number of words from the candidate that are found in the reference, and *wt* is the total number of words in the candidate. This is a perfect score, despite the fact that the candidate translation above retains little of the content of either of the references.\n",
        "\n",
        "The modification that BLEU makes is fairly straightforward. For each word in the candidate translation, the algorithm takes its maximum total count, *m_max*, in any of the reference translations. In the example above, the word \"the\" appears twice in reference 1, and once in reference 2. Thus *m_max* = 2.\n",
        "\n",
        "For the candidate translation, the count *mw* of each word is clipped to a maximum of *m_max* for that word. In this case, \"the\" has *m_w* = 7 and *m_max*=2, thus *m_w* is clipped to 2. These clipped counts *m_w* are then summed over all distinct words in the candidate. This sum is then divided by the total number of unigrams in the candidate translation. In the above example, the modified unigram precision score would be: P = 1 / 7\n",
        "\n",
        "In practice, however, using individual words as the unit of comparison is not optimal. Instead, BLEU computes the same modified precision metric using n-grams. The length which has the \"highest correlation with monolingual human judgements\" was found to be four. The unigram scores are found to account for the adequacy of the translation, how much information is retained. The longer n-gram scores account for the fluency of the translation, or to what extent it reads like \"good English\". ([source](https://en.wikipedia.org/wiki/BLEU))\n",
        "\n",
        "![bleu score 2](https://i.imgur.com/tNYaD64.png)"
      ]
    },
    {
      "cell_type": "code",
      "execution_count": 12,
      "id": "unnecessary-dylan",
      "metadata": {
        "execution": {
          "iopub.execute_input": "2021-08-11T06:33:13.098650Z",
          "iopub.status.busy": "2021-08-11T06:33:13.096350Z",
          "iopub.status.idle": "2021-08-11T06:40:04.352691Z",
          "shell.execute_reply": "2021-08-11T06:40:04.352105Z",
          "shell.execute_reply.started": "2021-05-23T05:36:30.164805Z"
        },
        "papermill": {
          "duration": 413.019147,
          "end_time": "2021-08-11T06:40:04.352861",
          "exception": false,
          "start_time": "2021-08-11T06:33:11.333714",
          "status": "completed"
        },
        "tags": [],
        "id": "unnecessary-dylan"
      },
      "outputs": [],
      "source": [
        "# It takes long to compute the BLEU Score\n",
        "\n",
        "def bleu_score(model, tokenizer, sources, raw_dataset):\n",
        "    # Get the bleu score of a model\n",
        "    actual, predicted = [], []\n",
        "    for i, source in enumerate(sources):\n",
        "        # translate encoded source text\n",
        "        source = source.reshape((1, source.shape[0]))\n",
        "        translation = predict_seq(model, tar_tokenizer, source)\n",
        "        raw_target, raw_src = raw_dataset[i]\n",
        "        actual.append([raw_target.split()])\n",
        "        predicted.append(translation.split())\n",
        "        \n",
        "    bleu_dic = {}\n",
        "    bleu_dic['1-grams'] = corpus_bleu(actual, predicted, weights=(1.0, 0, 0, 0))\n",
        "    bleu_dic['1-2-grams'] = corpus_bleu(actual, predicted, weights=(0.5, 0.5, 0, 0))\n",
        "    bleu_dic['1-3-grams'] = corpus_bleu(actual, predicted, weights=(0.3, 0.3, 0.3, 0))\n",
        "    bleu_dic['1-4-grams'] = corpus_bleu(actual, predicted, weights=(0.25, 0.25, 0.25, 0.25))\n",
        "    \n",
        "    return bleu_dic\n",
        "\n",
        "# Compute the BLEU Score\n",
        "bleu_train = bleu_score(model, tar_tokenizer, trainX, train)\n",
        "bleu_test = bleu_score(model, tar_tokenizer, testX, test)"
      ]
    },
    {
      "cell_type": "code",
      "execution_count": 13,
      "id": "suitable-collector",
      "metadata": {
        "execution": {
          "iopub.execute_input": "2021-08-11T06:40:07.870935Z",
          "iopub.status.busy": "2021-08-11T06:40:07.869921Z",
          "iopub.status.idle": "2021-08-11T06:40:07.990446Z",
          "shell.execute_reply": "2021-08-11T06:40:07.989909Z",
          "shell.execute_reply.started": "2021-05-23T05:42:15.182252Z"
        },
        "papermill": {
          "duration": 1.898543,
          "end_time": "2021-08-11T06:40:07.990582",
          "exception": false,
          "start_time": "2021-08-11T06:40:06.092039",
          "status": "completed"
        },
        "tags": [],
        "id": "suitable-collector",
        "outputId": "b8e6e7e0-78f7-4f33-bd4c-e8b6ded9ccb9",
        "colab": {
          "base_uri": "https://localhost:8080/",
          "height": 281
        }
      },
      "outputs": [
        {
          "output_type": "display_data",
          "data": {
            "text/plain": [
              "<Figure size 432x288 with 1 Axes>"
            ],
            "image/png": "[encoded data removed]"
          },
          "metadata": {
            "needs_background": "light"
          }
        }
      ],
      "source": [
        "plt.bar(x = bleu_train.keys(), height = bleu_train.values())\n",
        "plt.title(\"BLEU Score with the training set\")\n",
        "plt.ylim((0,1))\n",
        "plt.show()"
      ]
    },
    {
      "cell_type": "code",
      "execution_count": 14,
      "id": "hearing-ranch",
      "metadata": {
        "execution": {
          "iopub.execute_input": "2021-08-11T06:40:11.602034Z",
          "iopub.status.busy": "2021-08-11T06:40:11.601006Z",
          "iopub.status.idle": "2021-08-11T06:40:11.679350Z",
          "shell.execute_reply": "2021-08-11T06:40:11.678746Z",
          "shell.execute_reply.started": "2021-05-23T05:42:15.299091Z"
        },
        "papermill": {
          "duration": 1.877932,
          "end_time": "2021-08-11T06:40:11.679484",
          "exception": false,
          "start_time": "2021-08-11T06:40:09.801552",
          "status": "completed"
        },
        "tags": [],
        "id": "hearing-ranch",
        "outputId": "95e312a2-ce54-4924-f931-2d9b2dc64e10",
        "colab": {
          "base_uri": "https://localhost:8080/",
          "height": 281
        }
      },
      "outputs": [
        {
          "output_type": "display_data",
          "data": {
            "text/plain": [
              "<Figure size 432x288 with 1 Axes>"
            ],
            "image/png": "[encoded data removed]"
          },
          "metadata": {
            "needs_background": "light"
          }
        }
      ],
      "source": [
        "plt.bar(x = bleu_test.keys(), height = bleu_test.values())\n",
        "plt.title(\"BLEU Score with the test set\")\n",
        "plt.ylim((0,1))\n",
        "plt.show()"
      ]
    },
    {
      "cell_type": "code",
      "source": [
        "model.save(\"model.h5\")\n",
        "\n"
      ],
      "metadata": {
        "id": "pMlkli2VYnaN"
      },
      "id": "pMlkli2VYnaN",
      "execution_count": 15,
      "outputs": []
    },
    {
      "cell_type": "code",
      "source": [
        "import tensorflow as tf\n",
        "\n",
        "# Load the Keras model\n",
        "model = tf.keras.models.load_model(\"model.h5\")\n",
        "\n",
        "# Convert the model to TensorFlow Lite\n",
        "converter = tf.lite.TFLiteConverter.from_keras_model(model)\n",
        "converter.target_spec.supported_ops = [tf.lite.OpsSet.TFLITE_BUILTINS, tf.lite.OpsSet.SELECT_TF_OPS]\n",
        "tflite_model = converter.convert()\n",
        "\n",
        "# Save the TensorFlow Lite model to a file\n",
        "with open(\"model.tflite\", \"wb\") as f:\n",
        "    f.write(tflite_model)\n",
        "\n"
      ],
      "metadata": {
        "colab": {
          "base_uri": "https://localhost:8080/"
        },
        "id": "998M19YNCTjW",
        "outputId": "aa784dd1-6237-491f-8229-e597d7606052"
      },
      "id": "998M19YNCTjW",
      "execution_count": 18,
      "outputs": [
        {
          "output_type": "stream",
          "name": "stderr",
          "text": [
            "WARNING:absl:Found untraced functions such as lstm_cell_4_layer_call_fn, lstm_cell_4_layer_call_and_return_conditional_losses, lstm_cell_5_layer_call_fn, lstm_cell_5_layer_call_and_return_conditional_losses while saving (showing 4 of 4). These functions will not be directly callable after loading.\n"
          ]
        }
      ]
    }
  ],
  "metadata": {
    "kernelspec": {
      "display_name": "Python 3",
      "language": "python",
      "name": "python3"
    },
    "language_info": {
      "codemirror_mode": {
        "name": "ipython",
        "version": 3
      },
      "file_extension": ".py",
      "mimetype": "text/x-python",
      "name": "python",
      "nbconvert_exporter": "python",
      "pygments_lexer": "ipython3",
      "version": "3.7.9"
    },
    "papermill": {
      "default_parameters": {},
      "duration": 1117.227259,
      "end_time": "2021-08-11T06:40:14.964021",
      "environment_variables": {},
      "exception": null,
      "input_path": "__notebook__.ipynb",
      "output_path": "__notebook__.ipynb",
      "parameters": {},
      "start_time": "2021-08-11T06:21:37.736762",
      "version": "2.3.2"
    },
    "colab": {
      "provenance": []
    },
    "accelerator": "GPU",
    "gpuClass": "standard"
  },
  "nbformat": 4,
  "nbformat_minor": 5
}